{
 "cells": [
  {
   "cell_type": "markdown",
   "id": "0a80fd5f-1200-4b9a-8369-aa49d34e87d9",
   "metadata": {},
   "source": [
    "Q1. Create a vehicle class with an init method having instance variables as name_of_vehicle, max_speed\n",
    "and average_of_vehicle."
   ]
  },
  {
   "cell_type": "code",
   "execution_count": 5,
   "id": "71e3b1c4-12f8-478d-a4f9-987f9bcb2ade",
   "metadata": {},
   "outputs": [
    {
     "name": "stdout",
     "output_type": "stream",
     "text": [
      "Name of vehicle : BMW\n",
      "Maximum speed of vehicle : 200kmh\n",
      "Average of vehicle : 12km/h\n"
     ]
    }
   ],
   "source": [
    "#Ans:-\n",
    "\n",
    "class vehicle:\n",
    "    def __init__ (self,name_of_vehicle,max_speed,average_of_vehicle):\n",
    "        self.name_of_vehicle = name_of_vehicle\n",
    "        self.max_speed = max_speed\n",
    "        self.average_of_vehicle = average_of_vehicle\n",
    "        \n",
    "        \n",
    "        \n",
    "vehicle1 = vehicle(\"BMW\",\"200kmh\",\"12km/h\")\n",
    "\n",
    "print(\"Name of vehicle :\",vehicle1.name_of_vehicle)\n",
    "print(\"Maximum speed of vehicle :\",vehicle1.max_speed)\n",
    "print(\"Average of vehicle :\",vehicle1.average_of_vehicle)\n"
   ]
  },
  {
   "cell_type": "code",
   "execution_count": null,
   "id": "a832bf26-9ff8-4bb3-aa0e-f5ff3eaccae6",
   "metadata": {},
   "outputs": [],
   "source": []
  },
  {
   "cell_type": "code",
   "execution_count": null,
   "id": "1a80ba6c-2471-4151-b1a7-002ac7d44824",
   "metadata": {},
   "outputs": [],
   "source": [
    "Q2. Create a child class car from the vehicle class created in Que 1, which will inherit the vehicle class.\n",
    "Create a method named seating_capacity which takes capacity as an argument and returns the name of\n",
    "the vehicle and its seating capacity."
   ]
  },
  {
   "cell_type": "code",
   "execution_count": 14,
   "id": "09806662-fda9-4b09-b4f6-3c75ef2b45ee",
   "metadata": {},
   "outputs": [
    {
     "name": "stdout",
     "output_type": "stream",
     "text": [
      "Name of the car          : xuv\n",
      "Seeting capacity of car  : 7\n",
      "Maximum speed of vehicle : 200\n",
      "Average of vehicle       : 15\n"
     ]
    }
   ],
   "source": [
    "#Ans:-\n",
    "\n",
    "class car(vehicle):\n",
    "    def __init__(self,name_of_vehicle,max_speed,average_of_vehicle,seeting_capacity):\n",
    "        super(). __init__ (name_of_vehicle,max_speed,average_of_vehicle)\n",
    "        self.seeting_capacity = seeting_capacity\n",
    "        \n",
    "car1 = car(\"xuv\",200,15,7)\n",
    "\n",
    "print(\"Name of the car          :\",        car1.name_of_vehicle)\n",
    "print(\"Seeting capacity of car  :\",car1.seeting_capacity)\n",
    "print(\"Maximum speed of vehicle :\",car1.max_speed)\n",
    "print(\"Average of vehicle       :\",     car1.average_of_vehicle)"
   ]
  },
  {
   "cell_type": "code",
   "execution_count": null,
   "id": "50a86dec-758a-4371-ab65-d80885ab1203",
   "metadata": {},
   "outputs": [],
   "source": []
  },
  {
   "cell_type": "markdown",
   "id": "8852fa5e-616a-4a88-859c-6b9cb54eed4d",
   "metadata": {},
   "source": [
    "Q3. What is multiple inheritance? Write a python code to demonstrate multiple inheritance."
   ]
  },
  {
   "cell_type": "markdown",
   "id": "10a1c841-d79c-41ae-b8d5-adaf5fbd7670",
   "metadata": {},
   "source": [
    "Ans:-**Multiple inheritance** is a feature in object-oriented programming where a class can inherit attributes and methods from more than one parent class. In other words, a class can have multiple parent classes. This allows you to create a new class that combines features and behaviors from multiple existing classes. Multiple inheritance can be a powerful tool, but it can also lead to complexity and potential conflicts if not used carefully.\n",
    "\n",
    "Here's an example in Python to demonstrate multiple inheritance:\n",
    "\n",
    "```python\n",
    "# Parent class 1\n",
    "class Animal:\n",
    "    def __init__(self, name):\n",
    "        self.name = name\n",
    "\n",
    "    def speak(self):\n",
    "        pass\n",
    "\n",
    "# Parent class 2\n",
    "class Vehicle:\n",
    "    def __init__(self, brand):\n",
    "        self.brand = brand\n",
    "\n",
    "    def drive(self):\n",
    "        pass\n",
    "\n",
    "# Child class inheriting from both Animal and Vehicle\n",
    "class HorseCarriage(Animal, Vehicle):\n",
    "    def __init__(self, name, brand):\n",
    "        # Call constructors of both parent classes\n",
    "        Animal.__init__(self, name)\n",
    "        Vehicle.__init__(self, brand)\n",
    "\n",
    "    def speak(self):\n",
    "        return f\"{self.name} neighs.\"\n",
    "\n",
    "    def drive(self):\n",
    "        return f\"{self.brand} carriage is moving.\"\n",
    "\n",
    "# Create an instance of HorseCarriage\n",
    "carriage = HorseCarriage(\"Charlie\", \"HorseCo\")\n",
    "\n",
    "# Access and call methods from both parent classes\n",
    "print(carriage.speak())  # Output: \"Charlie neighs.\"\n",
    "print(carriage.drive())  # Output: \"HorseCo carriage is moving.\"\n",
    "```\n",
    "\n",
    "In this example:\n",
    "\n",
    "- We have two parent classes, `Animal` and `Vehicle`, each with its own attributes and methods.\n",
    "- The `HorseCarriage` class is a child class that inherits from both `Animal` and `Vehicle`. It uses multiple inheritance by specifying both parent classes in its definition.\n",
    "- In the `__init__` method of `HorseCarriage`, we explicitly call the constructors of both parent classes to initialize their attributes.\n",
    "- The `speak` method is overridden in `HorseCarriage` to provide a specific implementation for the animal's sound.\n",
    "- The `drive` method is also overridden in `HorseCarriage` to provide a specific implementation for moving the carriage.\n",
    "\n",
    "When we create an instance of `HorseCarriage`, it inherits attributes and methods from both `Animal` and `Vehicle`, allowing us to access and use them in a single class. This is an example of multiple inheritance in Python."
   ]
  },
  {
   "cell_type": "code",
   "execution_count": null,
   "id": "b59566d2-e2b3-4592-9810-c1d8272c9c89",
   "metadata": {},
   "outputs": [],
   "source": []
  },
  {
   "cell_type": "markdown",
   "id": "1236868b-9f91-418f-be90-3e10ba30c2ea",
   "metadata": {},
   "source": [
    "Q4. What are getter and setter in python? Create a class and create a getter and a setter method in this\n",
    "class."
   ]
  },
  {
   "cell_type": "markdown",
   "id": "b5b7b580-62ed-44e9-b558-94c761637423",
   "metadata": {},
   "source": [
    "Ans:- In Python, getters and setters are methods used to control access to the attributes (instance variables) of a class. They allow you to get and set the values of attributes while providing control and encapsulation over the attribute access. Getters are used to retrieve the values of attributes, while setters are used to modify or set the values of attributes. Using getters and setters is a way to implement data encapsulation and follow the principle of information hiding.\n",
    "\n",
    "Here's an example of a Python class with a getter and a setter method:\n",
    "\n",
    "```python\n",
    "class Student:\n",
    "    def __init__(self, name, age):\n",
    "        self._name = name  # Private attribute\n",
    "        self._age = age    # Private attribute\n",
    "\n",
    "    # Getter method for name\n",
    "    def get_name(self):\n",
    "        return self._name\n",
    "\n",
    "    # Setter method for name\n",
    "    def set_name(self, name):\n",
    "        if isinstance(name, str):\n",
    "            self._name = name\n",
    "        else:\n",
    "            print(\"Name must be a string.\")\n",
    "\n",
    "    # Getter method for age\n",
    "    def get_age(self):\n",
    "        return self._age\n",
    "\n",
    "    # Setter method for age\n",
    "    def set_age(self, age):\n",
    "        if age >= 0:\n",
    "            self._age = age\n",
    "        else:\n",
    "            print(\"Age must be a non-negative integer.\")\n",
    "\n",
    "# Create an instance of the Student class\n",
    "student1 = Student(\"Alice\", 20)\n",
    "\n",
    "# Get the name using the getter method\n",
    "print(\"Name:\", student1.get_name())\n",
    "\n",
    "# Set a new name using the setter method\n",
    "student1.set_name(\"Bob\")\n",
    "print(\"Updated Name:\", student1.get_name())\n",
    "\n",
    "# Get the age using the getter method\n",
    "print(\"Age:\", student1.get_age())\n",
    "\n",
    "# Set a new age using the setter method\n",
    "student1.set_age(25)\n",
    "print(\"Updated Age:\", student1.get_age())\n",
    "```\n",
    "\n",
    "In this code:\n",
    "\n",
    "- We define a `Student` class with private attributes `_name` and `_age`. By convention, attributes with a single underscore prefix (e.g., `_name`) are considered \"protected\" and should not be accessed directly from outside the class.\n",
    "- We create getter methods (`get_name` and `get_age`) to retrieve the values of these attributes.\n",
    "- We create setter methods (`set_name` and `set_age`) to modify the values of these attributes. These setter methods include validation checks to ensure that the new values meet certain criteria.\n",
    "- We create an instance of the `Student` class, `student1`, and use the getter and setter methods to access and modify the attributes.\n",
    "\n",
    "Using getters and setters allows you to control attribute access, validate input, and encapsulate the implementation details of a class while providing a clean interface for interacting with its data."
   ]
  },
  {
   "cell_type": "code",
   "execution_count": null,
   "id": "71d64ddc-9cc2-4b82-94cd-5ed00261a723",
   "metadata": {},
   "outputs": [],
   "source": []
  },
  {
   "cell_type": "markdown",
   "id": "debeb219-caa7-4cc6-b399-b72a68ad6600",
   "metadata": {},
   "source": [
    "Q5.What is method overriding in python? Write a python code to demonstrate method overriding."
   ]
  },
  {
   "cell_type": "markdown",
   "id": "7117002a-6947-4993-841c-0c7dfeccc1bf",
   "metadata": {},
   "source": [
    "Ans:- **Method overriding** in Python is a feature of object-oriented programming that allows a subclass to provide a specific implementation of a method that is already defined in its superclass. When a subclass defines a method with the same name and signature (i.e., the same name and parameters) as a method in its parent class, it overrides the parent class's method. This allows the subclass to provide its own behavior for that method while inheriting other characteristics from the parent class.\n",
    "\n",
    "Here's an example to demonstrate method overriding in Python:\n",
    "\n",
    "```python\n",
    "class Animal:\n",
    "    def speak(self):\n",
    "        print(\"Animal makes a sound\")\n",
    "\n",
    "class Dog(Animal):\n",
    "    def speak(self):\n",
    "        print(\"Dog barks\")\n",
    "\n",
    "class Cat(Animal):\n",
    "    def speak(self):\n",
    "        print(\"Cat meows\")\n",
    "\n",
    "# Create instances of the subclasses\n",
    "dog = Dog()\n",
    "cat = Cat()\n",
    "\n",
    "# Call the speak method on instances\n",
    "dog.speak()  # Output: \"Dog barks\"\n",
    "cat.speak()  # Output: \"Cat meows\"\n",
    "```\n",
    "\n",
    "In this example:\n",
    "\n",
    "- We define a parent class `Animal` with a method `speak` that provides a generic implementation for animal sounds.\n",
    "- We create two subclasses, `Dog` and `Cat`, each of which inherits from the `Animal` class.\n",
    "- Both `Dog` and `Cat` define their own `speak` method, which overrides the `speak` method from the `Animal` class. These overridden methods provide specific implementations for the sounds made by dogs and cats.\n",
    "- When we create instances of `Dog` and `Cat` and call the `speak` method on these instances, they invoke their respective overridden methods, and we get different outputs based on the subclass.\n",
    "\n",
    "Method overriding allows you to provide custom behavior in subclasses while benefiting from the inheritance hierarchy. It is a way to implement polymorphism, where objects of different classes can respond differently to the same method name, enhancing code flexibility and reusability."
   ]
  },
  {
   "cell_type": "code",
   "execution_count": null,
   "id": "fe4266e5-7257-4755-82b2-0a12cdacc825",
   "metadata": {},
   "outputs": [],
   "source": []
  }
 ],
 "metadata": {
  "kernelspec": {
   "display_name": "Python 3 (ipykernel)",
   "language": "python",
   "name": "python3"
  },
  "language_info": {
   "codemirror_mode": {
    "name": "ipython",
    "version": 3
   },
   "file_extension": ".py",
   "mimetype": "text/x-python",
   "name": "python",
   "nbconvert_exporter": "python",
   "pygments_lexer": "ipython3",
   "version": "3.10.8"
  }
 },
 "nbformat": 4,
 "nbformat_minor": 5
}
