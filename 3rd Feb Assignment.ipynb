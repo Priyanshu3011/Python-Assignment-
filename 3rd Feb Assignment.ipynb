{
 "cells": [
  {
   "cell_type": "code",
   "execution_count": null,
   "id": "82471f7f-d3d7-4dde-8337-d3ed9b9af5a9",
   "metadata": {},
   "outputs": [],
   "source": [
    "                                      3rd Feb Assignment\n",
    "    \n",
    "Q.1.Ans:- 'Def' is a keyword that is used to create a function. \n",
    "\n",
    "# A function to return a list of odd numbers in the range of 1 to 25\n",
    "start,end = 1 ,25\n",
    "  \n",
    "# iterating each number in list\n",
    "for num in range(start, end + 1):\n",
    "  \n",
    "    # checking condition\n",
    "    if num % 2 != 0:\n",
    "        print(num)"
   ]
  },
  {
   "cell_type": "code",
   "execution_count": null,
   "id": "4daed0df-7767-40a2-ad82-502db7f0b124",
   "metadata": {},
   "outputs": [],
   "source": [
    "Q.2.Ans:- *args and **kwargs is used in some function.Because by the help of this we can pass dynamic arguments through function.\n",
    "           And it makes the function flexibale.Actually *args is perfomed on tuple and **kwargs is perfom on dictionory.\n",
    "\n",
    "    \n",
    "# A function for *args\n",
    "\n",
    "def adder(*num):\n",
    "    sum = 0\n",
    "    \n",
    "    for n in num:\n",
    "        sum = sum + n\n",
    "\n",
    "    print(\"Sum:\",sum)\n",
    "    \n",
    "\n",
    "# A function for **args\n",
    "\n",
    "def funct(**kwargs):\n",
    "    for key,value in kwargs.items():\n",
    "    \n",
    "         print(\"key:\",key)\n",
    "         print(\"value:\",value)\n",
    "# Driver code            \n",
    "funct(name=\"Priyanshu\",course=\"Data science\")\n"
   ]
  },
  {
   "cell_type": "code",
   "execution_count": null,
   "id": "e4b2785a-6c34-43ae-a3ee-56b0c8b291af",
   "metadata": {},
   "outputs": [],
   "source": [
    "Q.3.Ans:-An iterator is an object that contains a countable number of values.\n",
    "\n",
    "An iterator is an object that can be iterated upon, meaning that you can traverse through all the values.\n",
    "\n",
    "Technically, in Python, an iterator is an object which implements the iterator protocol, which consist of the methods __iter__() and __next__().\n",
    "\n",
    "\n",
    "#print first five elements\n",
    "\n",
    "l=[2,4,6,8,10,12,14,16,18,20]\n",
    "\n",
    "l1=iter(l)\n",
    "i=1\n",
    "while i<=5:\n",
    "    print(next(l1))\n",
    "    i=i+1\n"
   ]
  },
  {
   "cell_type": "code",
   "execution_count": null,
   "id": "061367e6-6e10-403c-95cd-14bf56d0a5f0",
   "metadata": {},
   "outputs": [],
   "source": [
    "Q.4.Ans:- Generator function continously give one by one outcome without holding everything in memory.\n",
    "          \n",
    "          Actually yield is special reserved keyword which help to create a generator function.\n",
    "        \n",
    "# Example of Generator function\n",
    "# fibboaci series\n",
    "\n",
    "def fib(num):\n",
    "    a,b = 0,1\n",
    "    for i in range(num):\n",
    "        yield a\n",
    "        a,b =b, a+b\n",
    "for i in fib(10):\n",
    "     print(i)"
   ]
  },
  {
   "cell_type": "code",
   "execution_count": null,
   "id": "fcb3e5a6-daab-49ea-9385-60e32a4f9aaa",
   "metadata": {},
   "outputs": [],
   "source": [
    "Q.5.Ans:-\n",
    "\n",
    "\n",
    "def prime_gen():\n",
    "    \n",
    "    for j in range(1,1000):\n",
    "        count=0\n",
    "        \n",
    "        for i in range(1,j+1):\n",
    "            \n",
    "            if j%i==0:\n",
    "                \n",
    "                count=count+1\n",
    "                \n",
    "        if count==2:\n",
    "            \n",
    "            yield j\n",
    "a1=prime_gen()\n",
    "\n",
    "i=1\n",
    "while i<=20:\n",
    "    print(next(a1))\n",
    "    \n",
    "    i=i+1"
   ]
  },
  {
   "cell_type": "code",
   "execution_count": null,
   "id": "04bd1369-9c78-401d-95e4-a4edae53b5a8",
   "metadata": {},
   "outputs": [],
   "source": [
    "Q.6.Ans:-\n",
    "\n",
    "\n",
    "def fib():\n",
    "    a,b = 0,1\n",
    "    while True:\n",
    "        yield a\n",
    "        a,b = b,a+b\n",
    "#object\n",
    "\n",
    "fib = fib()\n",
    "\n",
    "# function call\n",
    "\n",
    "for i in range (10):\n",
    "    print(next(fib))"
   ]
  },
  {
   "cell_type": "code",
   "execution_count": null,
   "id": "fb77d5fc-275f-45d9-a691-3e8144bc8e48",
   "metadata": {},
   "outputs": [],
   "source": [
    "Q.7.Ans:-\n",
    "\n",
    "l= 'pwskils'\n",
    "\n",
    "[i for i in l]"
   ]
  },
  {
   "cell_type": "code",
   "execution_count": null,
   "id": "bf6ac92f-5b82-451f-b4b2-1002c08b43f5",
   "metadata": {},
   "outputs": [],
   "source": [
    "Q.8.Ans:-\n",
    "\n",
    "num=int(input(\"Enter any number :\"))\n",
    "temp=num\n",
    "rev=0\n",
    "while(num>0):\n",
    "    dig=num%10\n",
    "    rev=rev*10+dig\n",
    "    num=num//10\n",
    "if (temp == rev):\n",
    "        print(\" It's a Polindrome!\")\n",
    "else :\n",
    "        print(\"Not a Palindrome!\")"
   ]
  },
  {
   "cell_type": "code",
   "execution_count": null,
   "id": "3726dd83-c29a-4640-9201-b45d1f93dfce",
   "metadata": {},
   "outputs": [],
   "source": [
    "Q.9.Ans:-\n",
    "\n",
    "[i for i in range(1,100) if i % 2 != 0]"
   ]
  }
 ],
 "metadata": {
  "kernelspec": {
   "display_name": "Python 3 (ipykernel)",
   "language": "python",
   "name": "python3"
  },
  "language_info": {
   "codemirror_mode": {
    "name": "ipython",
    "version": 3
   },
   "file_extension": ".py",
   "mimetype": "text/x-python",
   "name": "python",
   "nbconvert_exporter": "python",
   "pygments_lexer": "ipython3",
   "version": "3.10.8"
  }
 },
 "nbformat": 4,
 "nbformat_minor": 5
}
