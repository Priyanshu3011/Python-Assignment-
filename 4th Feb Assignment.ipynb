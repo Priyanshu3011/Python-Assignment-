{
 "cells": [
  {
   "cell_type": "code",
   "execution_count": null,
   "id": "bc836151-699e-48ea-b6be-0b2b83148221",
   "metadata": {},
   "outputs": [],
   "source": [
    "                                    4th Feb Assignment\n",
    "    \n",
    "    \n",
    "Q.1.Ans :-\n",
    "\n",
    "players = [('Sachin Tendulkar', 34357), ('Ricky Ponting', 27483), ('Jack Kallis', 25534), ('Virat Kohli', 24936)]\n",
    "\n",
    "players.sort(key=lambda x:x[1])\n",
    "\n",
    "print(players)"
   ]
  },
  {
   "cell_type": "code",
   "execution_count": null,
   "id": "baef1ee1-51e1-4418-bdb0-dd57a44444a9",
   "metadata": {},
   "outputs": [],
   "source": [
    "Q.2.Ans:-\n",
    "\n",
    "#square of numbers by the use of lambda and map function\n",
    "\n",
    "l = [1, 2, 3, 4, 5, 6, 7, 8, 9, 10]\n",
    "\n",
    "list(map(lambda x : x**2,l))\n",
    "\n"
   ]
  },
  {
   "cell_type": "code",
   "execution_count": null,
   "id": "5f5eeb9e-75d8-40cc-8058-186be3b78e58",
   "metadata": {},
   "outputs": [],
   "source": [
    "Q.3.Ans:-\n",
    "\n",
    "l1 = [1, 2, 3, 4, 5, 6, 7, 8, 9, 10]\n",
    "\n",
    "tuple(map(lambda x : str(x) ,l1))"
   ]
  },
  {
   "cell_type": "code",
   "execution_count": null,
   "id": "c540282f-c107-4b4a-9339-c1b5eaf960d9",
   "metadata": {},
   "outputs": [],
   "source": [
    "Q.4.Ans:-\n",
    "\n",
    "from functools import reduce\n",
    "\n",
    "l2=list(range(1,26))\n",
    "\n",
    "reduce(lambda x,y : x*y ,l2)"
   ]
  },
  {
   "cell_type": "code",
   "execution_count": null,
   "id": "62b069ea-f5dc-4889-8db2-20e12fc0e715",
   "metadata": {},
   "outputs": [],
   "source": [
    "Q.5.Ans:-\n",
    "\n",
    "#divisible by 2 and 3\n",
    "\n",
    "l3 =[2, 3, 6, 9, 27, 60, 90, 120, 55, 46]\n",
    "\n",
    "list(filter(lambda x: x%2 ==0 and x%3 ==0 ,l3))"
   ]
  },
  {
   "cell_type": "code",
   "execution_count": null,
   "id": "84b7cd5f-628e-4a69-958c-4393b4a5ff1b",
   "metadata": {},
   "outputs": [],
   "source": [
    "Q.6.Ans:-\n",
    "\n",
    "string = ['python', 'php', 'aba', 'radar', 'level']\n",
    "\n",
    "list(filter(lambda x:x==x[::-1],string))"
   ]
  }
 ],
 "metadata": {
  "kernelspec": {
   "display_name": "Python 3 (ipykernel)",
   "language": "python",
   "name": "python3"
  },
  "language_info": {
   "codemirror_mode": {
    "name": "ipython",
    "version": 3
   },
   "file_extension": ".py",
   "mimetype": "text/x-python",
   "name": "python",
   "nbconvert_exporter": "python",
   "pygments_lexer": "ipython3",
   "version": "3.10.8"
  }
 },
 "nbformat": 4,
 "nbformat_minor": 5
}
