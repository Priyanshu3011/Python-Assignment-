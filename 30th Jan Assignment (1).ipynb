{
 "cells": [
  {
   "cell_type": "code",
   "execution_count": null,
   "id": "05c715ba-6d0e-464c-8c93-ccf741ec8fa7",
   "metadata": {},
   "outputs": [],
   "source": [
    "                      30th Jan Assignment\n",
    "Q.1.Ans-:\n",
    "    \n",
    "marks = int(input(\"enter your marks\"))\n",
    "if marks >90:\n",
    "    print(\"Grade A\")\n",
    "elif marks >80 and marks <=90:\n",
    "    print(\"Grade B\")\n",
    "elif marks >=60 and marks <=80:\n",
    "    print(\"Grade C\")\n",
    "else:\n",
    "    marks <60\n",
    "    print(\"Grade D\") \n",
    "   "
   ]
  },
  {
   "cell_type": "code",
   "execution_count": null,
   "id": "fe8d47b0-abd7-4cc6-b73d-571f1557eb9e",
   "metadata": {},
   "outputs": [],
   "source": [
    "Q.2.Ans-:\n",
    "    \n",
    "cost_price = int(input(\"enter your cost price of bike\"))\n",
    "if cost_price >100000:\n",
    "    print(\"Road Tax=15%\")\n",
    "elif cost_price >50000 and cost_price <=100000:\n",
    "    print(\"Road Tax=10%\")\n",
    "else :\n",
    "    cost_price <=50000\n",
    "    print(\"Road Tax=5%\")\n",
    "    \n",
    "\n",
    "    "
   ]
  },
  {
   "cell_type": "code",
   "execution_count": null,
   "id": "159d5826-4504-43a0-881b-b39120e574ca",
   "metadata": {},
   "outputs": [],
   "source": [
    "Q.3.Ans-:\n",
    "    \n",
    "city = input(\"enter city name\")\n",
    "if city ==\"delhi\":\n",
    "    print(\"monument=REd Fort\")\n",
    "elif city ==\"Aagra\":\n",
    "    print(\"monument=Taj Mahal\")\n",
    "else :\n",
    "    city =\"Jaipur\"\n",
    "    print(\"jal mahal\")\n",
    "    "
   ]
  },
  {
   "cell_type": "code",
   "execution_count": null,
   "id": "4a6a3f5d-8256-4ef3-828d-7b2020ce5f5c",
   "metadata": {},
   "outputs": [],
   "source": [
    "Q.4.Ans-:\n",
    "count=0\n",
    "n=int(input(\"Enter a Number\"))\n",
    "    \n",
    "while n>=10:\n",
    "    count=count+1\n",
    "    n=n/3\n",
    "print(count,\"times can be dvided by 3 before it is less than or equal to 10.\")    \n"
   ]
  },
  {
   "cell_type": "code",
   "execution_count": null,
   "id": "c33f9016-41ff-4a9f-9e8d-d4dc8edb46fa",
   "metadata": {},
   "outputs": [],
   "source": [
    "Q.5.Ans-:\n",
    "    \n",
    "Actully,while loop in python is used to execute a block of statements repeatedly until a given condtion is satisfied \n",
    "and when the condition becomes false , the line immediately after the loop in the program is executed.\n",
    "\n",
    "And the while loop is used when it is impossible to determin the exact number of loop iterations in advance.\n",
    "\n",
    "for example\n",
    "\n",
    "check how many times a given number can be divided by 3 before it is less then or equal to 10\n",
    "\n",
    "In this example we don't have any idea, how many time will the loop execute.\n",
    "In this case we should use while loop and we already solved this example as Q4\n"
   ]
  },
  {
   "cell_type": "code",
   "execution_count": null,
   "id": "93513e67-b449-48cc-8783-6a254c8d459e",
   "metadata": {},
   "outputs": [],
   "source": [
    "Q.6.Ans:-\n",
    "#list\n",
    "n =int(input(\"Enter number of rows:-\"))\n",
    "\n",
    "i = 1\n",
    "while i <= n:\n",
    "    j = 1\n",
    "    while j <= i :\n",
    "        print(\"*\", end =\" \")\n",
    "        j =j+1\n",
    "    print()\n",
    "    i =i+1\n",
    "    \n",
    "#2nd\n",
    "n = int(input(\"Enter number of Rows:-\"))\n",
    "              \n",
    "i = 1\n",
    "while i <= n :\n",
    "    j = n\n",
    "    while j >= i :\n",
    "        print(\"*\", end = \" \")\n",
    "        j =j-1\n",
    "    print()\n",
    "    i =i+1\n",
    "\n",
    "              \n",
    "#3rd\n",
    "i = 1\n",
    "while i <= 5 :\n",
    "     j=1\n",
    "     while j<=i:\n",
    "         print(j,end=\" \")\n",
    "         j=j+1\n",
    "     print(\"\")\n",
    "     i=i+1\n",
    "                          \n",
    "    \n",
    "              \n"
   ]
  },
  {
   "cell_type": "code",
   "execution_count": null,
   "id": "6e04a3f4-6937-40f3-9a99-f34e2f567a97",
   "metadata": {},
   "outputs": [],
   "source": [
    "Q.7.Ans:-\n",
    "\n",
    "i = 10\n",
    "while i >= 0 :\n",
    "    print(i)\n",
    "    i=i-1\n"
   ]
  },
  {
   "cell_type": "code",
   "execution_count": null,
   "id": "2e050738-d8a4-4fe3-b82b-7c31c6f8e859",
   "metadata": {},
   "outputs": [],
   "source": [
    "Q.8.Ans:-\n",
    "\n",
    "i = 10\n",
    "while i >= 0 :\n",
    "    print(i)\n",
    "    i=i-1"
   ]
  }
 ],
 "metadata": {
  "kernelspec": {
   "display_name": "Python 3 (ipykernel)",
   "language": "python",
   "name": "python3"
  },
  "language_info": {
   "codemirror_mode": {
    "name": "ipython",
    "version": 3
   },
   "file_extension": ".py",
   "mimetype": "text/x-python",
   "name": "python",
   "nbconvert_exporter": "python",
   "pygments_lexer": "ipython3",
   "version": "3.10.8"
  }
 },
 "nbformat": 4,
 "nbformat_minor": 5
}
