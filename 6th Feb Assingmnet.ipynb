{
 "cells": [
  {
   "cell_type": "markdown",
   "id": "5ee9da58-89d4-4f40-a903-8ebccd968763",
   "metadata": {},
   "source": [
    "Q1. Create a function which will take a list as an argument and return the product of all the numbers\n",
    "after creating a flat list.\n",
    "Use the below-given list as an argument for your function.\n",
    "list1 = [1,2,3,4, [44,55,66, True], False, (34,56,78,89,34), {1,2,3,3,2,1}, {1:34, \"key2\": [55, 67, 78, 89], 4: (45,\n",
    "22, 61, 34)}, [56, 'data science'], 'Machine Learning']\n",
    "Note: you must extract numeric keys and values of the dictionary also."
   ]
  },
  {
   "cell_type": "code",
   "execution_count": 9,
   "id": "149e39a4-506f-4e74-9a2b-5d89b649770c",
   "metadata": {},
   "outputs": [
    {
     "ename": "TypeError",
     "evalue": "'int' object is not iterable",
     "output_type": "error",
     "traceback": [
      "\u001b[0;31m---------------------------------------------------------------------------\u001b[0m",
      "\u001b[0;31mTypeError\u001b[0m                                 Traceback (most recent call last)",
      "Cell \u001b[0;32mIn[9], line 22\u001b[0m\n\u001b[1;32m     20\u001b[0m                         \u001b[38;5;28;01mif\u001b[39;00m \u001b[38;5;28mtuple\u001b[39m(k) \u001b[38;5;241m==\u001b[39m \u001b[38;5;28mint\u001b[39m:\n\u001b[1;32m     21\u001b[0m                             list_num\u001b[38;5;241m.\u001b[39mappend(k)\n\u001b[0;32m---> 22\u001b[0m \u001b[43mnumbers\u001b[49m\u001b[43m(\u001b[49m\u001b[43mlist1\u001b[49m\u001b[43m)\u001b[49m  \u001b[38;5;66;03m#function call\u001b[39;00m\n\u001b[1;32m     24\u001b[0m product \u001b[38;5;241m=\u001b[39m\u001b[38;5;241m1\u001b[39m\n\u001b[1;32m     25\u001b[0m \u001b[38;5;28;01mfor\u001b[39;00m i \u001b[38;5;129;01min\u001b[39;00m list_num:\n",
      "Cell \u001b[0;32mIn[9], line 20\u001b[0m, in \u001b[0;36mnumbers\u001b[0;34m(a)\u001b[0m\n\u001b[1;32m     18\u001b[0m \u001b[38;5;28;01melif\u001b[39;00m \u001b[38;5;28mtype\u001b[39m(j) \u001b[38;5;241m==\u001b[39m \u001b[38;5;28mlist\u001b[39m \u001b[38;5;129;01mor\u001b[39;00m \u001b[38;5;28mtype\u001b[39m(j) \u001b[38;5;241m==\u001b[39m \u001b[38;5;28mtuple\u001b[39m \u001b[38;5;129;01mor\u001b[39;00m \u001b[38;5;28mtype\u001b[39m(j)\u001b[38;5;241m==\u001b[39m\u001b[38;5;28mset\u001b[39m:\n\u001b[1;32m     19\u001b[0m     \u001b[38;5;28;01mfor\u001b[39;00m k \u001b[38;5;129;01min\u001b[39;00m j :\n\u001b[0;32m---> 20\u001b[0m         \u001b[38;5;28;01mif\u001b[39;00m \u001b[38;5;28;43mtuple\u001b[39;49m\u001b[43m(\u001b[49m\u001b[43mk\u001b[49m\u001b[43m)\u001b[49m \u001b[38;5;241m==\u001b[39m \u001b[38;5;28mint\u001b[39m:\n\u001b[1;32m     21\u001b[0m             list_num\u001b[38;5;241m.\u001b[39mappend(k)\n",
      "\u001b[0;31mTypeError\u001b[0m: 'int' object is not iterable"
     ]
    }
   ],
   "source": [
    "#Ans:-\n",
    "\n",
    "list1 = [1,2,3,4, [44,55,66, True], False, (34,56,78,89,34), {1,2,3,3,2,1}, {1:34, \"key2\": [55, 67, 78, 89], 4: (45,\n",
    "22, 61, 34)}, [56, 'data science'], 'Machine Learning']\n",
    "\n",
    "\n",
    "list_num = []\n",
    "def numbers(a):\n",
    "    for i in a:\n",
    "        if type(i) == int:\n",
    "            list_num.append(i)\n",
    "        elif type(i) == list or type(i) == tuple or type(i) == set:\n",
    "            for j in i:\n",
    "                if type(j) == int:\n",
    "                    list_num.append(j)\n",
    "        elif type(i) ==dict:\n",
    "            for j in i.values():\n",
    "                if type(j) == int:\n",
    "                    list_num.append(j)\n",
    "                elif type(j) == list or type(j) == tuple or type(j)==set:\n",
    "                    for k in j :\n",
    "                        if tuple(k) == int:\n",
    "                            list_num.append(k)\n",
    "numbers(list1)  #function call\n",
    "\n",
    "product =1\n",
    "for i in list_num:\n",
    "    product = product*1\n",
    "    \n",
    "print(product)    \n",
    "\n",
    "                "
   ]
  },
  {
   "cell_type": "markdown",
   "id": "3f53b8b7-f881-46e6-b1a6-1225622e907a",
   "metadata": {},
   "source": [
    "Q2. Write a python program for encrypting a message sent to you by your friend. The logic of encryption\n",
    "should be such that, for a the output should be z. For b, the output should be y. For c, the output should\n",
    "be x respectively. Also, the whitespace should be replaced with a dollar sign. Keep the punctuation\n",
    "marks unchanged.\n",
    "\n",
    "\n",
    "Input Sentence: I want to become a Data Scientist.\n",
    "\n",
    "\n",
    "Encrypt the above input sentence using the program you just created.\n",
    "\n",
    "\n",
    "Note: Convert the given input sentence into lowercase before encrypting. The final output should be lowercase"
   ]
  },
  {
   "cell_type": "code",
   "execution_count": 8,
   "id": "33360cbf-139f-4df6-b55e-2a6518935b5e",
   "metadata": {},
   "outputs": [
    {
     "name": "stdout",
     "output_type": "stream",
     "text": [
      "Encrypt message i$wznt$to$ye$z$dztz$sxientist.\n"
     ]
    }
   ],
   "source": [
    "#Ans:-\n",
    "\n",
    "input_sen = \"I want to be a data scientist.\"   #input message\n",
    "\n",
    "message = input_sen.lower()  # convert into lowercase\n",
    "\n",
    "encrypt = message\n",
    "\n",
    "for i in message:\n",
    "    \n",
    "    if i == 'a':\n",
    "        encrypt = encrypt.replace('a','z')\n",
    "    elif i == 'b':\n",
    "        encrypt = encrypt.replace('b','y')\n",
    "    elif i == 'c':\n",
    "        encrypt = encrypt.replace('c','x')\n",
    "    elif i == ' ':\n",
    "        encrypt = encrypt.replace(' ','$')\n",
    "        \n",
    "print(\"Encrypt message\",encrypt)        \n",
    "        "
   ]
  },
  {
   "cell_type": "code",
   "execution_count": null,
   "id": "d45ecf0a-822e-4ec1-a7a9-6701677d779d",
   "metadata": {},
   "outputs": [],
   "source": []
  }
 ],
 "metadata": {
  "kernelspec": {
   "display_name": "Python 3 (ipykernel)",
   "language": "python",
   "name": "python3"
  },
  "language_info": {
   "codemirror_mode": {
    "name": "ipython",
    "version": 3
   },
   "file_extension": ".py",
   "mimetype": "text/x-python",
   "name": "python",
   "nbconvert_exporter": "python",
   "pygments_lexer": "ipython3",
   "version": "3.10.8"
  }
 },
 "nbformat": 4,
 "nbformat_minor": 5
}
